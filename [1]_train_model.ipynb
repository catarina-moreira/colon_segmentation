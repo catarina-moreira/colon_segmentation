{
 "cells": [
  {
   "cell_type": "markdown",
   "metadata": {},
   "source": [
    "# Colon Cancer Segmentation - Training the Model"
   ]
  },
  {
   "cell_type": "markdown",
   "metadata": {},
   "source": [
    "## Environment Setup"
   ]
  },
  {
   "cell_type": "markdown",
   "metadata": {},
   "source": [
    "### Requirements"
   ]
  },
  {
   "cell_type": "code",
   "execution_count": 1,
   "metadata": {},
   "outputs": [],
   "source": [
    "INSTALL_REQ = False\n",
    "\n",
    "if INSTALL_REQ:\n",
    "    %pip install torch\n",
    "    %pip installtorchvision \n",
    "    %pip install torchvision monai nibabel matplotlib tqdm pyyaml scikit-image tensorboard"
   ]
  },
  {
   "cell_type": "code",
   "execution_count": null,
   "metadata": {},
   "outputs": [],
   "source": [
    "%pip install --upgrade jupyter ipywidgets"
   ]
  },
  {
   "cell_type": "markdown",
   "metadata": {},
   "source": [
    "### Imports"
   ]
  },
  {
   "cell_type": "code",
   "execution_count": 1,
   "metadata": {},
   "outputs": [
    {
     "name": "stdout",
     "output_type": "stream",
     "text": [
      "(self, spatial_dims: int, in_channels: int, out_channels: int, kernel_size: Sequence[Union[Sequence[int], int]], strides: Sequence[Union[Sequence[int], int]], upsample_kernel_size: Sequence[Union[Sequence[int], int]], filters: Optional[Sequence[int]] = None, dropout: Union[Tuple, str, float, NoneType] = None, norm_name: Union[Tuple, str] = ('INSTANCE', {'affine': True}), act_name: Union[Tuple, str] = ('leakyrelu', {'inplace': True, 'negative_slope': 0.01}), deep_supervision: bool = False, deep_supr_num: int = 1, res_block: bool = False, trans_bias: bool = False)\n"
     ]
    }
   ],
   "source": [
    "import os\n",
    "import yaml\n",
    "import json\n",
    "import time\n",
    "import numpy as np\n",
    "import torch\n",
    "import matplotlib.pyplot as plt\n",
    "from tqdm.notebook import tqdm\n",
    "from datetime import datetime\n",
    "\n",
    "import sys\n",
    "#sys.path.append(os.path.abspath('../'))\n",
    "\n",
    "# Import project-specific modules\n",
    "from src.utils.data_utils import set_random_seed, create_data_loaders\n",
    "from src.utils.model_utils import (\n",
    "    create_loss_function, \n",
    "    create_optimizer, \n",
    "    create_scheduler,\n",
    "    save_model,\n",
    "    predict_with_sliding_window, \n",
    "    create_evaluation_metric\n",
    ")\n",
    "from src.utils.visualization import (\n",
    "    visualize_slice,\n",
    "    plot_training_curves,\n",
    "    save_visualization\n",
    ")\n",
    "from src.models.network import initialize_model"
   ]
  },
  {
   "cell_type": "markdown",
   "metadata": {},
   "source": [
    "## Configuration"
   ]
  },
  {
   "cell_type": "code",
   "execution_count": 2,
   "metadata": {},
   "outputs": [
    {
     "name": "stdout",
     "output_type": "stream",
     "text": [
      "Loaded configuration:\n",
      "{\n",
      "  \"model_type\": \"dynunet\",\n",
      "  \"in_channels\": 1,\n",
      "  \"out_channels\": 2,\n",
      "  \"dimensions\": 3,\n",
      "  \"data_dir\": \"./data/Task10_Colon\",\n",
      "  \"validation_split\": 0.2,\n",
      "  \"intensity_bounds\": [\n",
      "    -175,\n",
      "    250\n",
      "  ],\n",
      "  \"patch_size\": [\n",
      "    96,\n",
      "    96,\n",
      "    96\n",
      "  ],\n",
      "  \"pos_sample_ratio\": 0.7,\n",
      "  \"batch_size\": 2,\n",
      "  \"val_batch_size\": 1,\n",
      "  \"max_epochs\": 1000,\n",
      "  \"early_stopping_patience\": 50,\n",
      "  \"num_workers\": 4,\n",
      "  \"optimizer\": {\n",
      "    \"type\": \"adamw\",\n",
      "    \"lr\": 0.0003,\n",
      "    \"weight_decay\": 1e-05\n",
      "  },\n",
      "  \"scheduler\": {\n",
      "    \"mode\": \"min\",\n",
      "    \"factor\": 0.5,\n",
      "    \"patience\": 20,\n",
      "    \"verbose\": true\n",
      "  },\n",
      "  \"loss\": {\n",
      "    \"include_background\": false,\n",
      "    \"to_onehot_y\": true,\n",
      "    \"softmax\": true,\n",
      "    \"sigmoid\": false,\n",
      "    \"use_ce\": true\n",
      "  },\n",
      "  \"metric\": {\n",
      "    \"include_background\": false,\n",
      "    \"reduction\": \"mean\"\n",
      "  },\n",
      "  \"sw_batch_size\": 4,\n",
      "  \"overlap\": 0.5,\n",
      "  \"checkpoint_interval\": 50,\n",
      "  \"val_interval\": 10,\n",
      "  \"vis_interval\": 10,\n",
      "  \"plot_interval\": 10,\n",
      "  \"output_dir\": \"./outputs\",\n",
      "  \"device\": \"cuda\",\n",
      "  \"seed\": 42,\n",
      "  \"resume\": false\n",
      "}\n"
     ]
    }
   ],
   "source": [
    "# Load config from file\n",
    "def load_config(config_path=os.path.join(\"configs\", \"train_config.yaml\")):\n",
    "    with open(config_path, \"r\") as f:\n",
    "        config = yaml.safe_load(f)\n",
    "    return config\n",
    "\n",
    "config = load_config()\n",
    "print(\"Loaded configuration:\")\n",
    "print(json.dumps(config, indent=2))\n",
    "\n",
    "# For example, reduce the number of epochs for a test run\n",
    "config[\"max_epochs\"] = 50  # Reduced from 1000 for demonstration\n",
    "config[\"val_interval\"] = 5  # Validate every 5 epochs\n",
    "config[\"device\"] = \"cuda\" if torch.cuda.is_available() else \"cpu\"\n",
    "config[\"batch_size\"] = 2  # Adjust based on your GPU memory\n",
    "config[\"model_type\"] = \"unet\"  # Choose from: unet, basicunet, dynunet\n",
    "\n",
    "# Define output directory\n",
    "experiment_name = f\"{config['model_type']}_{datetime.now().strftime('%Y%m%d_%H%M%S')}\"\n",
    "output_dir = os.path.join(\"outputs\", experiment_name)\n",
    "os.makedirs(output_dir, exist_ok=True)\n",
    "os.makedirs(os.path.join(output_dir, \"checkpoints\"), exist_ok=True)\n",
    "os.makedirs(os.path.join(output_dir, \"visualizations\"), exist_ok=True)\n",
    "\n",
    "# Save updated config\n",
    "with open(os.path.join(output_dir, \"config.yaml\"), \"w\") as f:\n",
    "    yaml.dump(config, f, default_flow_style=False)"
   ]
  },
  {
   "cell_type": "markdown",
   "metadata": {},
   "source": [
    "## Data Preparation"
   ]
  },
  {
   "cell_type": "code",
   "execution_count": 20,
   "metadata": {},
   "outputs": [
    {
     "name": "stderr",
     "output_type": "stream",
     "text": [
      "c:\\Users\\cmore\\anaconda3\\envs\\colon_seg\\Lib\\site-packages\\monai\\utils\\deprecate_utils.py:321: FutureWarning: monai.transforms.croppad.dictionary CropForegroundd.__init__:allow_smaller: Current default value of argument `allow_smaller=True` has been deprecated since version 1.2. It will be changed to `allow_smaller=False` in version 1.5.\n",
      "  warn_deprecated(argname, msg, warning_category)\n"
     ]
    },
    {
     "name": "stdout",
     "output_type": "stream",
     "text": [
      "Using conservative patch size: [96, 96, 80]\n",
      "Training samples: 101, Validation samples: 25\n"
     ]
    },
    {
     "name": "stderr",
     "output_type": "stream",
     "text": [
      "Loading dataset: 100%|██████████| 101/101 [02:13<00:00,  1.32s/it]\n",
      "Loading dataset: 100%|██████████| 25/25 [00:27<00:00,  1.11s/it]\n"
     ]
    },
    {
     "name": "stdout",
     "output_type": "stream",
     "text": [
      "Using a pos_sample_ratio: 0.7\n",
      "Training samples: 101\n",
      "Validation samples: 25\n"
     ]
    },
    {
     "data": {
      "image/png": "[encoded data removed]",
      "text/plain": [
       "<Figure size 666.667x500 with 2 Axes>"
      ]
     },
     "metadata": {},
     "output_type": "display_data"
    }
   ],
   "source": [
    "# Set random seed for reproducibility\n",
    "set_random_seed(config[\"seed\"])\n",
    "\n",
    "print(f\"Using conservative patch size: {config['patch_size']}\")\n",
    "\n",
    "# Re-create data loaders with the smaller patch size\n",
    "train_loader, val_loader = create_data_loaders(\n",
    "    data_dir=config[\"data_dir\"],\n",
    "    batch_size=config[\"batch_size\"],\n",
    "    val_batch_size=config[\"val_batch_size\"],\n",
    "    num_workers=config[\"num_workers\"],\n",
    "    validation_split=config[\"validation_split\"],\n",
    "    pin_memory=True,\n",
    "    spatial_size=config[\"patch_size\"],\n",
    "    pos_sample_ratio=config[\"pos_sample_ratio\"],\n",
    "    intensity_bounds=config[\"intensity_bounds\"]\n",
    ")\n",
    "\n",
    "print(f\"Using a pos_sample_ratio: {config['pos_sample_ratio']}\")\n",
    "\n",
    "\n",
    "print(f\"Training samples: {len(train_loader.dataset)}\")\n",
    "print(f\"Validation samples: {len(val_loader.dataset)}\")\n",
    "\n",
    "train_sample = next(iter(train_loader))\n",
    "image = train_sample[\"image\"][0].numpy()\n",
    "label = train_sample[\"label\"][0].numpy()\n",
    "\n",
    "fig = visualize_slice(\n",
    "    image=image,\n",
    "    ground_truth=label,\n",
    "    slice_idx=None,         # Automatically find a slice with segmentation\n",
    "    axis=0,                 # Axial view\n",
    "    figsize=(10, 5)\n",
    ")\n",
    "plt.show()"
   ]
  },
  {
   "cell_type": "markdown",
   "metadata": {},
   "source": [
    "## Model Initialization"
   ]
  },
  {
   "cell_type": "code",
   "execution_count": 21,
   "metadata": {},
   "outputs": [
    {
     "name": "stdout",
     "output_type": "stream",
     "text": [
      "Using device: cuda\n",
      "Created unet model with 4,808,917 trainable parameters\n"
     ]
    }
   ],
   "source": [
    "# Create model\n",
    "device = torch.device(config[\"device\"])\n",
    "print(f\"Using device: {device}\")\n",
    "\n",
    "model = initialize_model(\n",
    "    model_type=config[\"model_type\"],\n",
    "    in_channels=config[\"in_channels\"],\n",
    "    out_channels=config[\"out_channels\"],\n",
    "    dimensions=config[\"dimensions\"],\n",
    "    device=device\n",
    ")\n",
    "\n",
    "# Print model summary\n",
    "num_params = sum(p.numel() for p in model.parameters() if p.requires_grad)\n",
    "print(f\"Created {config['model_type']} model with {num_params:,} trainable parameters\")"
   ]
  },
  {
   "cell_type": "markdown",
   "metadata": {},
   "source": [
    "## Loss Function, Optimizer and Scheduler"
   ]
  },
  {
   "cell_type": "code",
   "execution_count": 22,
   "metadata": {},
   "outputs": [
    {
     "name": "stderr",
     "output_type": "stream",
     "text": [
      "c:\\Users\\cmore\\anaconda3\\envs\\colon_seg\\Lib\\site-packages\\torch\\optim\\lr_scheduler.py:62: UserWarning: The verbose parameter is deprecated. Please use get_last_lr() to access the learning rate.\n",
      "  warnings.warn(\n"
     ]
    }
   ],
   "source": [
    "# Create loss function\n",
    "loss_fn = create_loss_function(\n",
    "    include_background=config[\"loss\"][\"include_background\"],\n",
    "    to_onehot_y=config[\"loss\"][\"to_onehot_y\"],\n",
    "    softmax=config[\"loss\"][\"softmax\"],\n",
    "    sigmoid=config[\"loss\"][\"sigmoid\"],\n",
    "    use_ce=config[\"loss\"][\"use_ce\"]\n",
    ")\n",
    "\n",
    "# Create optimizer\n",
    "optimizer = create_optimizer(\n",
    "    model=model,\n",
    "    learning_rate=config[\"optimizer\"][\"lr\"],\n",
    "    weight_decay=config[\"optimizer\"][\"weight_decay\"],\n",
    "    optimizer_type=config[\"optimizer\"][\"type\"]\n",
    ")\n",
    "\n",
    "# Create scheduler\n",
    "scheduler = create_scheduler(\n",
    "    optimizer=optimizer,\n",
    "    mode=config[\"scheduler\"][\"mode\"],\n",
    "    factor=config[\"scheduler\"][\"factor\"],\n",
    "    patience=config[\"scheduler\"][\"patience\"],\n",
    "    verbose=config[\"scheduler\"][\"verbose\"]\n",
    ")\n",
    "\n",
    "# Create metric for validation\n",
    "metric_fn = create_evaluation_metric(\n",
    "    include_background=config[\"metric\"][\"include_background\"],\n",
    "    reduction=config[\"metric\"][\"reduction\"]\n",
    ")"
   ]
  },
  {
   "cell_type": "markdown",
   "metadata": {},
   "source": [
    "## Training Loop"
   ]
  },
  {
   "cell_type": "code",
   "execution_count": 23,
   "metadata": {},
   "outputs": [],
   "source": [
    "def train_epoch(model, train_loader, optimizer, loss_fn, device, epoch, max_epochs):\n",
    "    \"\"\"Train model for one epoch.\"\"\"\n",
    "    model.train()\n",
    "    epoch_loss = 0\n",
    "    progress_bar = tqdm(train_loader, desc=f\"Epoch {epoch}/{max_epochs}\")\n",
    "    \n",
    "    for batch_idx, batch_data in enumerate(progress_bar):\n",
    "        inputs, labels = batch_data[\"image\"].to(device), batch_data[\"label\"].to(device)\n",
    "        \n",
    "        optimizer.zero_grad()\n",
    "        \n",
    "        # Forward pass\n",
    "        if config['model_type'] == 'dynunet' and hasattr(model, 'net') and hasattr(model.net, 'do_ds') and model.net.do_ds:\n",
    "            # Handle deep supervision outputs\n",
    "            outputs = model(inputs)\n",
    "            \n",
    "            # Use all deep supervision outputs with different weights\n",
    "            if isinstance(outputs, list):\n",
    "                # Apply loss to each output with descending weights\n",
    "                ds_weights = [0.5 ** i for i in range(len(outputs))]\n",
    "                ds_weights = [w / sum(ds_weights) for w in ds_weights]  # Normalize weights\n",
    "                \n",
    "                # Calculate weighted loss for each deep supervision output\n",
    "                losses = [loss_fn(out, labels) * weight for out, weight in zip(outputs, ds_weights)]\n",
    "                loss = sum(losses)\n",
    "            else:\n",
    "                # Fallback if output is not a list\n",
    "                loss = loss_fn(outputs, labels)\n",
    "        else:\n",
    "            outputs = model(inputs)\n",
    "            loss = loss_fn(outputs, labels)\n",
    "        \n",
    "        # Backward pass and optimize\n",
    "        loss.backward()\n",
    "        optimizer.step()\n",
    "        \n",
    "        # Update progress bar\n",
    "        epoch_loss += loss.item()\n",
    "        progress_bar.set_postfix({\"loss\": loss.item()})\n",
    "    \n",
    "    return epoch_loss / len(train_loader)\n",
    "\n",
    "\n",
    "\n",
    "def validate(model, val_loader, loss_fn, metric_fn, device, config):\n",
    "    \"\"\"Validate the model.\"\"\"\n",
    "    model.eval()\n",
    "    val_loss = 0\n",
    "    metric_fn.reset()\n",
    "    \n",
    "    with torch.no_grad():\n",
    "        for batch_idx, batch_data in enumerate(val_loader):\n",
    "            inputs, labels = batch_data[\"image\"].to(device), batch_data[\"label\"].to(device)\n",
    "            \n",
    "            # Sliding window inference for validation\n",
    "            outputs = predict_with_sliding_window(\n",
    "                model, inputs, \n",
    "                roi_size=config['patch_size'], \n",
    "                sw_batch_size=config['sw_batch_size'],\n",
    "                overlap=config['overlap']\n",
    "            )\n",
    "            \n",
    "            # Calculate validation loss\n",
    "            val_loss_batch = loss_fn(outputs, labels)\n",
    "            val_loss += val_loss_batch.item()\n",
    "            \n",
    "            # Compute metric\n",
    "            if config['model_type'] == 'dynunet' and isinstance(outputs, list):\n",
    "                outputs = outputs[0]\n",
    "            \n",
    "            metric_fn(y_pred=outputs, y=labels)\n",
    "    \n",
    "    # Aggregate metrics\n",
    "    metric = metric_fn.aggregate().item()\n",
    "    metric_fn.reset()\n",
    "    \n",
    "    return val_loss / len(val_loader), metric\n",
    "\n",
    "\n",
    "\n",
    "def visualize_validation_sample(model, val_loader, device, output_dir, epoch, config):\n",
    "    \"\"\"Visualize a validation sample with model prediction.\"\"\"\n",
    "    model.eval()\n",
    "    \n",
    "    # Get a validation sample\n",
    "    val_data = next(iter(val_loader))\n",
    "    image = val_data[\"image\"].to(device)\n",
    "    label = val_data[\"label\"].to(device)\n",
    "    \n",
    "    with torch.no_grad():\n",
    "        # Sliding window inference\n",
    "        prediction = predict_with_sliding_window(\n",
    "            model, image, \n",
    "            roi_size=config['patch_size'], \n",
    "            sw_batch_size=config['sw_batch_size'],\n",
    "            overlap=config['overlap']\n",
    "        )\n",
    "        \n",
    "        # Apply softmax and get binary prediction\n",
    "        if config['model_type'] == 'dynunet' and isinstance(prediction, list):\n",
    "            prediction = prediction[0]  # Take final output\n",
    "        \n",
    "        prediction_softmax = torch.softmax(prediction, dim=1)\n",
    "        prediction_binary = torch.argmax(prediction_softmax, dim=1, keepdim=True)\n",
    "    \n",
    "    # Visualize prediction\n",
    "    fig = visualize_slice(\n",
    "        image=image[0].cpu().numpy(),\n",
    "        prediction=prediction_binary[0].cpu().numpy(),\n",
    "        ground_truth=label[0].cpu().numpy(),\n",
    "        slice_idx=None,\n",
    "        axis=0,\n",
    "        figsize=(15, 5),\n",
    "        alpha=0.5\n",
    "    )\n",
    "    \n",
    "    # Save visualization\n",
    "    vis_path = os.path.join(output_dir, \"visualizations\", f\"val_pred_epoch_{epoch}.png\")\n",
    "    plt.savefig(vis_path, dpi=150, bbox_inches='tight')\n",
    "    plt.close(fig)\n",
    "    \n",
    "    # Display in notebook\n",
    "    return fig\n",
    "\n",
    "\n",
    "\n",
    "\n"
   ]
  },
  {
   "cell_type": "code",
   "execution_count": null,
   "metadata": {},
   "outputs": [],
   "source": []
  },
  {
   "cell_type": "code",
   "execution_count": 19,
   "metadata": {},
   "outputs": [
    {
     "data": {
      "application/vnd.jupyter.widget-view+json": {
       "model_id": "abf077ab3b9e45c787b8c27146be843b",
       "version_major": 2,
       "version_minor": 0
      },
      "text/plain": [
       "Epoch 1/50:   0%|          | 0/51 [00:00<?, ?it/s]"
      ]
     },
     "metadata": {},
     "output_type": "display_data"
    },
    {
     "name": "stdout",
     "output_type": "stream",
     "text": [
      "Epoch 1/50, Average Loss: 1.7916\n"
     ]
    },
    {
     "data": {
      "application/vnd.jupyter.widget-view+json": {
       "model_id": "ccee3b8e9cba47d4a79e41c2d9d80752",
       "version_major": 2,
       "version_minor": 0
      },
      "text/plain": [
       "Epoch 2/50:   0%|          | 0/51 [00:00<?, ?it/s]"
      ]
     },
     "metadata": {},
     "output_type": "display_data"
    },
    {
     "name": "stdout",
     "output_type": "stream",
     "text": [
      "Epoch 2/50, Average Loss: 1.5563\n"
     ]
    },
    {
     "data": {
      "application/vnd.jupyter.widget-view+json": {
       "model_id": "87db6befa1114e8b831c6a236e279975",
       "version_major": 2,
       "version_minor": 0
      },
      "text/plain": [
       "Epoch 3/50:   0%|          | 0/51 [00:00<?, ?it/s]"
      ]
     },
     "metadata": {},
     "output_type": "display_data"
    },
    {
     "name": "stdout",
     "output_type": "stream",
     "text": [
      "Epoch 3/50, Average Loss: 1.3928\n"
     ]
    },
    {
     "data": {
      "application/vnd.jupyter.widget-view+json": {
       "model_id": "1905da8b8f624c19bf1dae503bf955a1",
       "version_major": 2,
       "version_minor": 0
      },
      "text/plain": [
       "Epoch 4/50:   0%|          | 0/51 [00:00<?, ?it/s]"
      ]
     },
     "metadata": {},
     "output_type": "display_data"
    },
    {
     "name": "stdout",
     "output_type": "stream",
     "text": [
      "Epoch 4/50, Average Loss: 1.2766\n"
     ]
    },
    {
     "data": {
      "application/vnd.jupyter.widget-view+json": {
       "model_id": "9e4bba5659594cd59d65b31bbd7e6bfd",
       "version_major": 2,
       "version_minor": 0
      },
      "text/plain": [
       "Epoch 5/50:   0%|          | 0/51 [00:00<?, ?it/s]"
      ]
     },
     "metadata": {},
     "output_type": "display_data"
    },
    {
     "name": "stdout",
     "output_type": "stream",
     "text": [
      "Epoch 5/50, Average Loss: 1.1936\n",
      "Validation Loss: 1.2016, Metric: 0.0013\n",
      "New best model saved with metric: 0.0013 at epoch 5\n"
     ]
    },
    {
     "data": {
      "application/vnd.jupyter.widget-view+json": {
       "model_id": "7705660ca94f4714a0c28ce8620e905b",
       "version_major": 2,
       "version_minor": 0
      },
      "text/plain": [
       "Epoch 6/50:   0%|          | 0/51 [00:00<?, ?it/s]"
      ]
     },
     "metadata": {},
     "output_type": "display_data"
    }
   ],
   "source": [
    "\n",
    "\n",
    "# Initialize training variables\n",
    "start_epoch = 0\n",
    "best_metric = -1\n",
    "best_metric_epoch = -1\n",
    "best_model_path = os.path.join(output_dir, \"checkpoints\", f\"best_model_{config['model_type']}.pth\")\n",
    "patience_counter = 0\n",
    "train_losses = []\n",
    "val_losses = []\n",
    "val_metrics = []\n",
    "\n",
    "# Training loop\n",
    "start_time = time.time()\n",
    "\n",
    "for epoch in range(start_epoch, config[\"max_epochs\"]):\n",
    "    # Train one epoch\n",
    "    train_loss = train_epoch(model, train_loader, optimizer, loss_fn, device, epoch + 1, config[\"max_epochs\"])\n",
    "    train_losses.append(train_loss)\n",
    "    \n",
    "    print(f\"Epoch {epoch + 1}/{config['max_epochs']}, Average Loss: {train_loss:.4f}\")\n",
    "    \n",
    "    # Validate model\n",
    "    if (epoch + 1) % config[\"val_interval\"] == 0:\n",
    "        val_loss, metric = validate(model, val_loader, loss_fn, metric_fn, device, config)\n",
    "        val_losses.append(val_loss)\n",
    "        val_metrics.append(metric)\n",
    "        \n",
    "        scheduler.step(val_loss)\n",
    "        \n",
    "        print(f\"Validation Loss: {val_loss:.4f}, Metric: {metric:.4f}\")\n",
    "        \n",
    "        # Save visualization of a validation sample\n",
    "        if (epoch + 1) % config[\"vis_interval\"] == 0:\n",
    "            fig = visualize_validation_sample(model, val_loader, device, output_dir, epoch + 1, config)\n",
    "            plt.figure(figsize=(15, 5))\n",
    "            plt.imshow(plt.imread(os.path.join(output_dir, \"visualizations\", f\"val_pred_epoch_{epoch + 1}.png\")))\n",
    "            plt.axis('off')\n",
    "            plt.show()\n",
    "        \n",
    "        # Save best model\n",
    "        if metric > best_metric:\n",
    "            best_metric = metric\n",
    "            best_metric_epoch = epoch + 1\n",
    "            \n",
    "            save_model(\n",
    "                model=model,\n",
    "                path=best_model_path,\n",
    "                epoch=epoch,\n",
    "                optimizer=optimizer,\n",
    "                scheduler=scheduler,\n",
    "                best_metric=best_metric\n",
    "            )\n",
    "            \n",
    "            print(f\"New best model saved with metric: {best_metric:.4f} at epoch {best_metric_epoch}\")\n",
    "            patience_counter = 0\n",
    "        else:\n",
    "            patience_counter += 1\n",
    "        \n",
    "        # Save checkpoint\n",
    "        if (epoch + 1) % config[\"checkpoint_interval\"] == 0:\n",
    "            checkpoint_path = os.path.join(output_dir, \"checkpoints\", f\"checkpoint_epoch_{epoch + 1}.pth\")\n",
    "            save_model(\n",
    "                model=model,\n",
    "                path=checkpoint_path,\n",
    "                epoch=epoch,\n",
    "                optimizer=optimizer,\n",
    "                scheduler=scheduler,\n",
    "                best_metric=best_metric\n",
    "            )\n",
    "        \n",
    "        # Early stopping\n",
    "        if patience_counter >= config[\"early_stopping_patience\"]:\n",
    "            print(f\"Early stopping triggered after {epoch + 1} epochs\")\n",
    "            break\n",
    "        \n",
    "        # Plot and save training curves\n",
    "        if val_losses and (epoch + 1) % config[\"plot_interval\"] == 0:\n",
    "            fig = plot_training_curves(\n",
    "                metrics_dict={\n",
    "                    \"Training Loss\": train_losses,\n",
    "                    \"Validation Loss\": val_losses,\n",
    "                    \"Validation Metric (Dice)\": val_metrics\n",
    "                }\n",
    "            )\n",
    "            plt.tight_layout()\n",
    "            plt.savefig(os.path.join(output_dir, \"training_curves.png\"), dpi=150, bbox_inches='tight')\n",
    "            plt.show()\n",
    "\n",
    "# Training finished\n",
    "total_time = time.time() - start_time\n",
    "print(f\"Training completed in {total_time:.2f}s ({total_time/60:.2f}min)\")\n",
    "print(f\"Best metric: {best_metric:.4f} at epoch {best_metric_epoch}\")\n"
   ]
  },
  {
   "cell_type": "code",
   "execution_count": null,
   "metadata": {},
   "outputs": [],
   "source": []
  },
  {
   "cell_type": "markdown",
   "metadata": {},
   "source": [
    "## Evaluate Best Model"
   ]
  },
  {
   "cell_type": "code",
   "execution_count": null,
   "metadata": {},
   "outputs": [],
   "source": [
    "# Load the best model\n",
    "def load_model(path, model, device):\n",
    "    checkpoint = torch.load(path, map_location=device)\n",
    "    model.load_state_dict(checkpoint[\"model_state_dict\"])\n",
    "    return model\n",
    "\n",
    "best_model = initialize_model(\n",
    "    model_type=config[\"model_type\"],\n",
    "    in_channels=config[\"in_channels\"],\n",
    "    out_channels=config[\"out_channels\"],\n",
    "    dimensions=config[\"dimensions\"],\n",
    "    device=device\n",
    ")\n",
    "\n",
    "best_model = load_model(best_model_path, best_model, device)\n",
    "print(f\"Loaded best model from epoch {best_metric_epoch}\")\n",
    "\n",
    "# Evaluate the best model on validation set\n",
    "val_loss, val_metric = validate(best_model, val_loader, loss_fn, metric_fn, device, config)\n",
    "print(f\"Best model evaluation - Validation Loss: {val_loss:.4f}, Dice: {val_metric:.4f}\")"
   ]
  },
  {
   "cell_type": "markdown",
   "metadata": {},
   "source": [
    "## Visualize Results"
   ]
  },
  {
   "cell_type": "code",
   "execution_count": null,
   "metadata": {},
   "outputs": [],
   "source": [
    "# Create a function to visualize multiple samples\n",
    "def visualize_multiple_predictions(model, data_loader, device, config, num_samples=5):\n",
    "    \"\"\"Visualize predictions for multiple samples.\"\"\"\n",
    "    model.eval()\n",
    "    \n",
    "    # Get samples\n",
    "    samples = [next(iter(data_loader)) for _ in range(num_samples)]\n",
    "    \n",
    "    for i, sample in enumerate(samples):\n",
    "        image = sample[\"image\"].to(device)\n",
    "        label = sample[\"label\"].to(device)\n",
    "        \n",
    "        with torch.no_grad():\n",
    "            # Sliding window inference\n",
    "            prediction = predict_with_sliding_window(\n",
    "                model, image, \n",
    "                roi_size=config['patch_size'], \n",
    "                sw_batch_size=config['sw_batch_size'],\n",
    "                overlap=config['overlap']\n",
    "            )\n",
    "            \n",
    "            # Apply softmax and get binary prediction\n",
    "            if config['model_type'] == 'dynunet' and isinstance(prediction, list):\n",
    "                prediction = prediction[0]  # Take final output\n",
    "            \n",
    "            prediction_softmax = torch.softmax(prediction, dim=1)\n",
    "            prediction_binary = torch.argmax(prediction_softmax, dim=1, keepdim=True)\n",
    "        \n",
    "        # Visualize prediction\n",
    "        fig = visualize_slice(\n",
    "            image=image[0].cpu().numpy(),\n",
    "            prediction=prediction_binary[0].cpu().numpy(),\n",
    "            ground_truth=label[0].cpu().numpy(),\n",
    "            slice_idx=None,\n",
    "            axis=0,\n",
    "            figsize=(15, 5),\n",
    "            alpha=0.5\n",
    "        )\n",
    "        \n",
    "        plt.figure(figsize=(15, 5))\n",
    "        plt.imshow(plt.imread(os.path.join(output_dir, \"visualizations\", f\"sample_{i+1}.png\")))\n",
    "        plt.axis('off')\n",
    "        plt.title(f\"Sample {i+1}\")\n",
    "        plt.show()\n",
    "        \n",
    "        # Save visualization\n",
    "        save_visualization(\n",
    "            fig=fig,\n",
    "            save_path=os.path.join(output_dir, \"visualizations\", f\"sample_{i+1}.png\"),\n",
    "            dpi=150\n",
    "        )\n",
    "\n",
    "\n",
    "# Visualize predictions on validation samples\n",
    "visualize_multiple_predictions(best_model, val_loader, device, config, num_samples=3)"
   ]
  },
  {
   "cell_type": "markdown",
   "metadata": {},
   "source": [
    "## Save Final Results"
   ]
  },
  {
   "cell_type": "code",
   "execution_count": null,
   "metadata": {},
   "outputs": [],
   "source": [
    "# Plot final training curves\n",
    "fig = plot_training_curves(\n",
    "    metrics_dict={\n",
    "        \"Training Loss\": train_losses,\n",
    "        \"Validation Loss\": val_losses,\n",
    "        \"Validation Metric (Dice)\": val_metrics\n",
    "    }\n",
    ")\n",
    "plt.tight_layout()\n",
    "plt.savefig(os.path.join(output_dir, \"training_curves_final.png\"), dpi=150, bbox_inches='tight')\n",
    "plt.show()"
   ]
  },
  {
   "cell_type": "code",
   "execution_count": null,
   "metadata": {},
   "outputs": [],
   "source": [
    "# Save training history\n",
    "history = {\n",
    "    \"train_loss\": train_losses,\n",
    "    \"val_loss\": val_losses,\n",
    "    \"val_metric\": val_metrics,\n",
    "    \"best_metric\": float(best_metric),\n",
    "    \"best_metric_epoch\": int(best_metric_epoch),\n",
    "    \"total_time\": float(total_time)\n",
    "}\n",
    "\n",
    "with open(os.path.join(output_dir, \"training_history.json\"), \"w\") as f:\n",
    "    json.dump(history, f)\n",
    "\n",
    "print(f\"Training history saved to {os.path.join(output_dir, 'training_history.json')}\")"
   ]
  },
  {
   "cell_type": "code",
   "execution_count": null,
   "metadata": {},
   "outputs": [],
   "source": [
    "# Create a training summary\n",
    "summary = f\"\"\"\n",
    "# Training Summary\n",
    "\n",
    "## Model Information\n",
    "- Model type: {config['model_type']}\n",
    "- Input channels: {config['in_channels']}\n",
    "- Output channels: {config['out_channels']}\n",
    "- Trainable parameters: {sum(p.numel() for p in model.parameters() if p.requires_grad):,}\n",
    "\n",
    "## Training Configuration\n",
    "- Batch size: {config['batch_size']}\n",
    "- Learning rate: {config['optimizer']['lr']}\n",
    "- Optimizer: {config['optimizer']['type']}\n",
    "- Loss function: {'Dice + Cross-Entropy' if config['loss']['use_ce'] else 'Dice'}\n",
    "- Patch size: {config['patch_size']}\n",
    "\n",
    "## Results\n",
    "- Best Dice score: {best_metric:.4f} (epoch {best_metric_epoch})\n",
    "- Final Dice score: {val_metric:.4f}\n",
    "- Training time: {total_time/60:.2f} minutes\n",
    "- Early stopping: {'Yes' if patience_counter >= config['early_stopping_patience'] else 'No'}\n",
    "\"\"\"\n",
    "\n",
    "with open(os.path.join(output_dir, \"training_summary.md\"), \"w\") as f:\n",
    "    f.write(summary)\n",
    "\n",
    "print(summary)"
   ]
  }
 ],
 "metadata": {
  "kernelspec": {
   "display_name": "colon_seg",
   "language": "python",
   "name": "python3"
  },
  "language_info": {
   "codemirror_mode": {
    "name": "ipython",
    "version": 3
   },
   "file_extension": ".py",
   "mimetype": "text/x-python",
   "name": "python",
   "nbconvert_exporter": "python",
   "pygments_lexer": "ipython3",
   "version": "3.12.9"
  }
 },
 "nbformat": 4,
 "nbformat_minor": 2
}
